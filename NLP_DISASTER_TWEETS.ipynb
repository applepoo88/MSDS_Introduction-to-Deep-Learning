{
 "cells": [
  {
   "cell_type": "markdown",
   "id": "062386dd",
   "metadata": {
    "_cell_guid": "7957945d-2ff0-4f63-a9b3-523798f87106",
    "_uuid": "b93b6b21-bc76-4be3-b6cd-1a3d46249ec7",
    "jupyter": {
     "outputs_hidden": false
    },
    "papermill": {
     "duration": 0.008635,
     "end_time": "2025-04-19T07:31:36.338348",
     "exception": false,
     "start_time": "2025-04-19T07:31:36.329713",
     "status": "completed"
    },
    "tags": []
   },
   "source": [
    "# Natural Language Processing with Disaster Tweets\n",
    "\n",
    "University of Colorado Boulder - DTSA 5511 Week 4\n",
    "\n",
    "## 1. Description\n",
    "\n",
    "Twitter is a major platform for sharing news and staying connected, especially during disasters. People often post about emergencies in real time, which can be incredibly helpful for first responders and disaster relief teams trying to assess the situation quickly.\n",
    "\n",
    "However, detecting real disaster-related tweets is not straightforward. Many tweets include words like “fire,” “explosion,” or “flood,” but use them figuratively — for example, describing a party as “lit” or a performance as a “disaster.” These kinds of posts create a lot of noise, making it difficult to automatically identify urgent, real-world events.\n",
    "\n",
    "The goal of this project is to train a model that can tell whether a tweet is about a real disaster or just using dramatic language. I’m using NLP techniques to clean up the tweets and then training a GRU-based neural network to spot patterns that separate actual emergencies from, well… exaggerated tweets about bad dates or Monday mornings.\n",
    "\n",
    "---\n",
    "\n",
    "### Dataset Summary\n",
    "\n",
    "The dataset is provided by Kaggle and includes both training and test files:\n",
    "\n",
    "**Training Set**\n",
    "- **File**: `train.csv`\n",
    "- **Rows**: 7,613 tweets\n",
    "- **Columns**: 5\n",
    "  - `id`: Unique identifier for the tweet\n",
    "  - `keyword`: Disaster-related keyword (e.g., “flooding,” “earthquake”) – may be missing\n",
    "  - `location`: Tweet location – noisy and often missing\n",
    "  - `text`: The full tweet content (main input for modeling)\n",
    "  - `target`: Binary label — `1` if the tweet is about a real disaster, `0` otherwise\n",
    "\n",
    "**Test Set**\n",
    "- **File**: `test.csv`\n",
    "- **Rows**: 3,263 tweets\n",
    "- **Columns**: 4 (same as training data but without `target`)\n",
    "\n",
    "---\n",
    "\n",
    "### Model Pipeline Overview\n",
    "\n",
    "In this notebook, I:\n",
    "- Explore and visualize the dataset to understand class distribution, tweet lengths, and keyword patterns\n",
    "- Clean the tweet text by removing links, mentions, hashtags, emojis, and extra punctuation\n",
    "- Apply tokenization and padding to convert text into fixed-length numeric sequences\n",
    "- Build and train a GRU-based neural network using an embedding layer and dropout for regularization\n",
    "- Evaluate the model using accuracy, F1 score, confusion matrix, and classification report\n",
    "- Tune hyperparameters (embedding size, GRU units, dropout) to find the best model\n",
    "- Generate predictions on the test set and prepare the final submission file\n",
    "\n",
    "By the end of the project, the model should be able to identify disaster-related tweets with strong performance and generalize well to unseen tweets.\n",
    "\n",
    "\n",
    "### Import Modules"
   ]
  },
  {
   "cell_type": "code",
   "execution_count": 1,
   "id": "4b763d7c",
   "metadata": {
    "_cell_guid": "11d426de-b615-4bc2-a1a6-9f57169df469",
    "_uuid": "6441214b-ef4c-4f95-8a99-7ec9f4f9c72f",
    "execution": {
     "iopub.execute_input": "2025-04-19T07:31:36.355236Z",
     "iopub.status.busy": "2025-04-19T07:31:36.354839Z",
     "iopub.status.idle": "2025-04-19T07:31:57.406661Z",
     "shell.execute_reply": "2025-04-19T07:31:57.405587Z"
    },
    "jupyter": {
     "outputs_hidden": false
    },
    "papermill": {
     "duration": 21.062535,
     "end_time": "2025-04-19T07:31:57.408738",
     "exception": false,
     "start_time": "2025-04-19T07:31:36.346203",
     "status": "completed"
    },
    "tags": []
   },
   "outputs": [],
   "source": [
    "# Standard libraries\n",
    "import os\n",
    "import re\n",
    "import warnings\n",
    "\n",
    "# Scientific computing and data handling\n",
    "import numpy as np\n",
    "import pandas as pd\n",
    "\n",
    "# Visualization\n",
    "import matplotlib.pyplot as plt\n",
    "import seaborn as sns\n",
    "\n",
    "# Machine learning - scikit-learn\n",
    "from sklearn.model_selection import train_test_split\n",
    "from sklearn.metrics import classification_report, confusion_matrix, f1_score\n",
    "\n",
    "# Deep learning - TensorFlow and Keras\n",
    "import tensorflow as tf\n",
    "from tensorflow.keras.models import Model, Sequential\n",
    "from tensorflow.keras.layers import Input, Embedding, SpatialDropout1D, GRU, Dense\n",
    "from tensorflow.keras.preprocessing.text import Tokenizer\n",
    "from tensorflow.keras.preprocessing.sequence import pad_sequences\n",
    "from tensorflow.keras.callbacks import EarlyStopping, ModelCheckpoint\n",
    "from tensorflow.keras.optimizers import Adam\n",
    "\n",
    "# Natural language processing - spaCy\n",
    "import spacy\n",
    "nlp = spacy.load('en_core_web_sm')\n",
    "\n",
    "# Suppress warnings\n",
    "warnings.filterwarnings('ignore')"
   ]
  },
  {
   "cell_type": "code",
   "execution_count": 2,
   "id": "6c90b9fa",
   "metadata": {
    "_cell_guid": "e52063b1-8049-405a-9b5b-e01715495d9f",
    "_uuid": "6ecfb983-fef4-4e84-a65e-39398bd36031",
    "execution": {
     "iopub.execute_input": "2025-04-19T07:31:57.427501Z",
     "iopub.status.busy": "2025-04-19T07:31:57.426838Z",
     "iopub.status.idle": "2025-04-19T07:31:57.432226Z",
     "shell.execute_reply": "2025-04-19T07:31:57.431241Z"
    },
    "jupyter": {
     "outputs_hidden": false
    },
    "papermill": {
     "duration": 0.017453,
     "end_time": "2025-04-19T07:31:57.434170",
     "exception": false,
     "start_time": "2025-04-19T07:31:57.416717",
     "status": "completed"
    },
    "tags": []
   },
   "outputs": [],
   "source": [
    "# random seed for reproducibility\n",
    "np.random.seed(22)\n",
    "tf.random.set_seed(22)"
   ]
  },
  {
   "cell_type": "markdown",
   "id": "139f3f71",
   "metadata": {
    "_cell_guid": "6e762a84-6a26-4ab6-bc6b-aa0c56c4334e",
    "_uuid": "859d97af-bdd1-4307-9b75-7df6c17ae299",
    "jupyter": {
     "outputs_hidden": false
    },
    "papermill": {
     "duration": 0.007585,
     "end_time": "2025-04-19T07:31:57.450322",
     "exception": false,
     "start_time": "2025-04-19T07:31:57.442737",
     "status": "completed"
    },
    "tags": []
   },
   "source": [
    "### Load Datasets"
   ]
  },
  {
   "cell_type": "code",
   "execution_count": 3,
   "id": "a6985c2e",
   "metadata": {
    "_cell_guid": "2919c4c6-d258-45ab-a540-443c6ced29de",
    "_uuid": "990f9705-9ae3-4f03-8ad4-1b0da9c77dde",
    "execution": {
     "iopub.execute_input": "2025-04-19T07:31:57.467842Z",
     "iopub.status.busy": "2025-04-19T07:31:57.467503Z",
     "iopub.status.idle": "2025-04-19T07:31:57.547994Z",
     "shell.execute_reply": "2025-04-19T07:31:57.547076Z"
    },
    "jupyter": {
     "outputs_hidden": false
    },
    "papermill": {
     "duration": 0.091436,
     "end_time": "2025-04-19T07:31:57.549794",
     "exception": false,
     "start_time": "2025-04-19T07:31:57.458358",
     "status": "completed"
    },
    "tags": []
   },
   "outputs": [
    {
     "name": "stdout",
     "output_type": "stream",
     "text": [
      "<class 'pandas.core.frame.DataFrame'>\n",
      "RangeIndex: 7613 entries, 0 to 7612\n",
      "Data columns (total 5 columns):\n",
      " #   Column    Non-Null Count  Dtype \n",
      "---  ------    --------------  ----- \n",
      " 0   id        7613 non-null   int64 \n",
      " 1   keyword   7552 non-null   object\n",
      " 2   location  5080 non-null   object\n",
      " 3   text      7613 non-null   object\n",
      " 4   target    7613 non-null   int64 \n",
      "dtypes: int64(2), object(3)\n",
      "memory usage: 297.5+ KB\n"
     ]
    },
    {
     "data": {
      "text/html": [
       "<div>\n",
       "<style scoped>\n",
       "    .dataframe tbody tr th:only-of-type {\n",
       "        vertical-align: middle;\n",
       "    }\n",
       "\n",
       "    .dataframe tbody tr th {\n",
       "        vertical-align: top;\n",
       "    }\n",
       "\n",
       "    .dataframe thead th {\n",
       "        text-align: right;\n",
       "    }\n",
       "</style>\n",
       "<table border=\"1\" class=\"dataframe\">\n",
       "  <thead>\n",
       "    <tr style=\"text-align: right;\">\n",
       "      <th></th>\n",
       "      <th>id</th>\n",
       "      <th>keyword</th>\n",
       "      <th>location</th>\n",
       "      <th>text</th>\n",
       "      <th>target</th>\n",
       "    </tr>\n",
       "  </thead>\n",
       "  <tbody>\n",
       "    <tr>\n",
       "      <th>1467</th>\n",
       "      <td>2115</td>\n",
       "      <td>catastrophe</td>\n",
       "      <td>Florida</td>\n",
       "      <td>@deb117 7/30 that catastrophe man opens school...</td>\n",
       "      <td>0</td>\n",
       "    </tr>\n",
       "    <tr>\n",
       "      <th>6453</th>\n",
       "      <td>9232</td>\n",
       "      <td>suicide%20bombing</td>\n",
       "      <td>NaN</td>\n",
       "      <td>meek mill should join isis since he loves suic...</td>\n",
       "      <td>0</td>\n",
       "    </tr>\n",
       "    <tr>\n",
       "      <th>5698</th>\n",
       "      <td>8131</td>\n",
       "      <td>rescued</td>\n",
       "      <td>Ireland</td>\n",
       "      <td>Three beached whales rescued in Kerry - http:/...</td>\n",
       "      <td>1</td>\n",
       "    </tr>\n",
       "    <tr>\n",
       "      <th>5769</th>\n",
       "      <td>8236</td>\n",
       "      <td>riot</td>\n",
       "      <td>Seattle</td>\n",
       "      <td>Southeast Dirt Riot Series Crowns Champions:  ...</td>\n",
       "      <td>0</td>\n",
       "    </tr>\n",
       "    <tr>\n",
       "      <th>6853</th>\n",
       "      <td>9822</td>\n",
       "      <td>trauma</td>\n",
       "      <td>NaN</td>\n",
       "      <td>Hiroshima: They told me to paint my story: Eig...</td>\n",
       "      <td>1</td>\n",
       "    </tr>\n",
       "    <tr>\n",
       "      <th>3446</th>\n",
       "      <td>4924</td>\n",
       "      <td>exploded</td>\n",
       "      <td>Australia</td>\n",
       "      <td>Junko was 13 years old when the atomic bomb ex...</td>\n",
       "      <td>1</td>\n",
       "    </tr>\n",
       "    <tr>\n",
       "      <th>4042</th>\n",
       "      <td>5741</td>\n",
       "      <td>forest%20fires</td>\n",
       "      <td>alberta, canada</td>\n",
       "      <td>@gilmanrocks7 wow. Where is this? For the rest...</td>\n",
       "      <td>1</td>\n",
       "    </tr>\n",
       "    <tr>\n",
       "      <th>6264</th>\n",
       "      <td>8949</td>\n",
       "      <td>storm</td>\n",
       "      <td>Chicago, IL</td>\n",
       "      <td>How to prepare your #property for a #storm:\\n\\...</td>\n",
       "      <td>1</td>\n",
       "    </tr>\n",
       "    <tr>\n",
       "      <th>5955</th>\n",
       "      <td>8506</td>\n",
       "      <td>screaming</td>\n",
       "      <td>rio de janeiro | brazil</td>\n",
       "      <td>SCREAMING @MariahCarey @ArianaGrande http://t....</td>\n",
       "      <td>0</td>\n",
       "    </tr>\n",
       "    <tr>\n",
       "      <th>3431</th>\n",
       "      <td>4906</td>\n",
       "      <td>explode</td>\n",
       "      <td>NaN</td>\n",
       "      <td>My head is gonna explode</td>\n",
       "      <td>0</td>\n",
       "    </tr>\n",
       "  </tbody>\n",
       "</table>\n",
       "</div>"
      ],
      "text/plain": [
       "        id            keyword                 location  \\\n",
       "1467  2115        catastrophe                  Florida   \n",
       "6453  9232  suicide%20bombing                      NaN   \n",
       "5698  8131            rescued                  Ireland   \n",
       "5769  8236               riot                  Seattle   \n",
       "6853  9822             trauma                      NaN   \n",
       "3446  4924           exploded                Australia   \n",
       "4042  5741     forest%20fires          alberta, canada   \n",
       "6264  8949              storm              Chicago, IL   \n",
       "5955  8506          screaming  rio de janeiro | brazil   \n",
       "3431  4906            explode                      NaN   \n",
       "\n",
       "                                                   text  target  \n",
       "1467  @deb117 7/30 that catastrophe man opens school...       0  \n",
       "6453  meek mill should join isis since he loves suic...       0  \n",
       "5698  Three beached whales rescued in Kerry - http:/...       1  \n",
       "5769  Southeast Dirt Riot Series Crowns Champions:  ...       0  \n",
       "6853  Hiroshima: They told me to paint my story: Eig...       1  \n",
       "3446  Junko was 13 years old when the atomic bomb ex...       1  \n",
       "4042  @gilmanrocks7 wow. Where is this? For the rest...       1  \n",
       "6264  How to prepare your #property for a #storm:\\n\\...       1  \n",
       "5955  SCREAMING @MariahCarey @ArianaGrande http://t....       0  \n",
       "3431                           My head is gonna explode       0  "
      ]
     },
     "execution_count": 3,
     "metadata": {},
     "output_type": "execute_result"
    }
   ],
   "source": [
    "# Load the train dataset\n",
    "train_df = pd.read_csv(r'C:\\Users\\Saskia May\\Downloads\\nlp-getting-started\\train.csv')\n",
    "\n",
    "train_df.info()\n",
    "train_df.sample(10)"
   ]
  },
  {
   "cell_type": "code",
   "execution_count": 4,
   "id": "75bffbed",
   "metadata": {},
   "outputs": [
    {
     "name": "stdout",
     "output_type": "stream",
     "text": [
      "<class 'pandas.core.frame.DataFrame'>\n",
      "RangeIndex: 3263 entries, 0 to 3262\n",
      "Data columns (total 4 columns):\n",
      " #   Column    Non-Null Count  Dtype \n",
      "---  ------    --------------  ----- \n",
      " 0   id        3263 non-null   int64 \n",
      " 1   keyword   3237 non-null   object\n",
      " 2   location  2158 non-null   object\n",
      " 3   text      3263 non-null   object\n",
      "dtypes: int64(1), object(3)\n",
      "memory usage: 102.1+ KB\n"
     ]
    },
    {
     "data": {
      "text/html": [
       "<div>\n",
       "<style scoped>\n",
       "    .dataframe tbody tr th:only-of-type {\n",
       "        vertical-align: middle;\n",
       "    }\n",
       "\n",
       "    .dataframe tbody tr th {\n",
       "        vertical-align: top;\n",
       "    }\n",
       "\n",
       "    .dataframe thead th {\n",
       "        text-align: right;\n",
       "    }\n",
       "</style>\n",
       "<table border=\"1\" class=\"dataframe\">\n",
       "  <thead>\n",
       "    <tr style=\"text-align: right;\">\n",
       "      <th></th>\n",
       "      <th>id</th>\n",
       "      <th>keyword</th>\n",
       "      <th>location</th>\n",
       "      <th>text</th>\n",
       "    </tr>\n",
       "  </thead>\n",
       "  <tbody>\n",
       "    <tr>\n",
       "      <th>2429</th>\n",
       "      <td>8117</td>\n",
       "      <td>rescued</td>\n",
       "      <td>Burnley, Lancashire</td>\n",
       "      <td>British trekkers rescued amid flash floods in ...</td>\n",
       "    </tr>\n",
       "    <tr>\n",
       "      <th>3030</th>\n",
       "      <td>10007</td>\n",
       "      <td>tsunami</td>\n",
       "      <td>http://t.co/mOY6lmu</td>\n",
       "      <td>Help support the victims of the Japanese Earth...</td>\n",
       "    </tr>\n",
       "    <tr>\n",
       "      <th>3019</th>\n",
       "      <td>9968</td>\n",
       "      <td>tsunami</td>\n",
       "      <td>NaN</td>\n",
       "      <td>TheDIYHacks: RT Illusionimagess: A tsunami clo...</td>\n",
       "    </tr>\n",
       "    <tr>\n",
       "      <th>2210</th>\n",
       "      <td>7388</td>\n",
       "      <td>obliterate</td>\n",
       "      <td>NaN</td>\n",
       "      <td>#dating Absolute Approaching: Unique 21-day co...</td>\n",
       "    </tr>\n",
       "    <tr>\n",
       "      <th>503</th>\n",
       "      <td>1642</td>\n",
       "      <td>bombing</td>\n",
       "      <td>London</td>\n",
       "      <td>What it was like to survive the atomic bombing...</td>\n",
       "    </tr>\n",
       "    <tr>\n",
       "      <th>1731</th>\n",
       "      <td>5844</td>\n",
       "      <td>hailstorm</td>\n",
       "      <td>North East America</td>\n",
       "      <td>Boston yesterday after an intense hailstorm. P...</td>\n",
       "    </tr>\n",
       "    <tr>\n",
       "      <th>371</th>\n",
       "      <td>1192</td>\n",
       "      <td>blizzard</td>\n",
       "      <td>Sunny Florida</td>\n",
       "      <td>Check out the #new #ebook on #sale by #TimZak ...</td>\n",
       "    </tr>\n",
       "    <tr>\n",
       "      <th>2267</th>\n",
       "      <td>7562</td>\n",
       "      <td>outbreak</td>\n",
       "      <td>NaN</td>\n",
       "      <td>Families to sue over Legionnaires: More than 4...</td>\n",
       "    </tr>\n",
       "    <tr>\n",
       "      <th>2173</th>\n",
       "      <td>7271</td>\n",
       "      <td>nuclear%20disaster</td>\n",
       "      <td>Stah-koomi-tapii-akii</td>\n",
       "      <td>Rare photographs show the nightmare aftermath ...</td>\n",
       "    </tr>\n",
       "    <tr>\n",
       "      <th>2580</th>\n",
       "      <td>8601</td>\n",
       "      <td>seismic</td>\n",
       "      <td>Malta; Gozo</td>\n",
       "      <td>The time for small steps has long been over. W...</td>\n",
       "    </tr>\n",
       "  </tbody>\n",
       "</table>\n",
       "</div>"
      ],
      "text/plain": [
       "         id             keyword                location  \\\n",
       "2429   8117             rescued     Burnley, Lancashire   \n",
       "3030  10007             tsunami     http://t.co/mOY6lmu   \n",
       "3019   9968             tsunami                     NaN   \n",
       "2210   7388          obliterate                     NaN   \n",
       "503    1642             bombing                  London   \n",
       "1731   5844           hailstorm      North East America   \n",
       "371    1192            blizzard           Sunny Florida   \n",
       "2267   7562            outbreak                     NaN   \n",
       "2173   7271  nuclear%20disaster   Stah-koomi-tapii-akii   \n",
       "2580   8601             seismic             Malta; Gozo   \n",
       "\n",
       "                                                   text  \n",
       "2429  British trekkers rescued amid flash floods in ...  \n",
       "3030  Help support the victims of the Japanese Earth...  \n",
       "3019  TheDIYHacks: RT Illusionimagess: A tsunami clo...  \n",
       "2210  #dating Absolute Approaching: Unique 21-day co...  \n",
       "503   What it was like to survive the atomic bombing...  \n",
       "1731  Boston yesterday after an intense hailstorm. P...  \n",
       "371   Check out the #new #ebook on #sale by #TimZak ...  \n",
       "2267  Families to sue over Legionnaires: More than 4...  \n",
       "2173  Rare photographs show the nightmare aftermath ...  \n",
       "2580  The time for small steps has long been over. W...  "
      ]
     },
     "execution_count": 4,
     "metadata": {},
     "output_type": "execute_result"
    }
   ],
   "source": [
    "# Load the test dataset\n",
    "test_df = pd.read_csv(r'C:\\Users\\Saskia May\\Downloads\\nlp-getting-started\\test.csv')\n",
    "\n",
    "test_df.info()\n",
    "test_df.sample(10)"
   ]
  },
  {
   "cell_type": "markdown",
   "id": "51acd23c",
   "metadata": {
    "_cell_guid": "51c38cc6-07b0-4b5a-815a-ba59c9a5db7b",
    "_uuid": "9c50ac74-6659-4a6a-9cdc-331595f7dafc",
    "jupyter": {
     "outputs_hidden": false
    },
    "papermill": {
     "duration": 0.007736,
     "end_time": "2025-04-19T07:31:57.565388",
     "exception": false,
     "start_time": "2025-04-19T07:31:57.557652",
     "status": "completed"
    },
    "tags": []
   },
   "source": [
    "## 2. Exploratory Data Analysis"
   ]
  },
  {
   "cell_type": "markdown",
   "id": "c46abe3f",
   "metadata": {},
   "source": [
    "### Class Distribution\n",
    "\n",
    "Before diving into modeling, let’s take a quick look at the class distribution. The target variable `target` has two categories:\n",
    "\n",
    "- **0**: Non-disaster tweet  \n",
    "- **1**: Disaster-related tweet\n",
    "\n",
    "There are more non-disaster tweets than disaster ones. Not surprising — people tweet a lot about “explosive performances” or “killer pizza” that have nothing to do with real emergencies."
   ]
  },
  {
   "cell_type": "code",
   "execution_count": 5,
   "id": "76a1b30e",
   "metadata": {},
   "outputs": [
    {
     "data": {
      "image/png": "[encoded data removed]",
      "text/plain": [
       "<Figure size 576x360 with 1 Axes>"
      ]
     },
     "metadata": {
      "needs_background": "light"
     },
     "output_type": "display_data"
    }
   ],
   "source": [
    "# Class Distribution Plot with Counts and Percentages\n",
    "plt.figure(figsize=(8, 5))\n",
    "ax = sns.countplot(x='target', data=train_df, palette={0: 'green', 1: 'red'})\n",
    "\n",
    "# Title and Axis Labels\n",
    "plt.title('Tweet Class Distribution', fontsize=14)\n",
    "plt.xlabel('Target (0 = Non-Disaster, 1 = Disaster)', fontsize=12)\n",
    "plt.ylabel('Tweet Count', fontsize=12)\n",
    "plt.xticks([0, 1], ['Non-Disaster', 'Disaster'], fontsize=10)\n",
    "\n",
    "# Annotate counts and percentages\n",
    "total = len(train_df)\n",
    "for p in ax.patches:\n",
    "    count = int(p.get_height())\n",
    "    percentage = count / total * 100\n",
    "    ax.annotate(f'{count} ({percentage:.1f}%)',\n",
    "                xy=(p.get_x() + p.get_width() / 2, count),\n",
    "                ha='center', va='bottom', fontsize=10)\n",
    "\n",
    "plt.tight_layout()\n",
    "plt.show()"
   ]
  },
  {
   "cell_type": "markdown",
   "id": "281578f5",
   "metadata": {},
   "source": [
    "### Tweet Length (words) Distribution\n",
    "\n",
    "Each tweet in the dataset was analyzed for its length, measured by the number of words it contains. A new feature called `tweet_length` was created by splitting the tweet text on spaces and counting the number of resulting tokens.\n",
    "\n",
    "The plot below displays the distribution of tweet lengths. It includes a histogram showing the frequency of different word counts and a kernel density estimate (KDE) to visualize the underlying probability distribution.\n",
    "\n",
    "Most tweets are between 10 and 20 words long. A smaller number of tweets are significantly longer, which results in a right-skewed distribution.\n",
    "\n",
    "Understanding tweet length helps inform decisions for text preprocessing, such as setting an appropriate maximum sequence length when padding or truncating sequences for neural network input."
   ]
  },
  {
   "cell_type": "code",
   "execution_count": 6,
   "id": "0246183f",
   "metadata": {
    "scrolled": false
   },
   "outputs": [
    {
     "data": {
      "image/png": "[encoded data removed]",
      "text/plain": [
       "<Figure size 576x360 with 1 Axes>"
      ]
     },
     "metadata": {
      "needs_background": "light"
     },
     "output_type": "display_data"
    }
   ],
   "source": [
    "# Calculate tweet length in words\n",
    "train_df['tweet_length_words'] = train_df['text'].apply(lambda text: len(text.split()))\n",
    "\n",
    "# Plot the distribution of tweet lengths\n",
    "plt.figure(figsize=(8, 5))\n",
    "sns.histplot(train_df['tweet_length_words'], bins=30, kde=True, color='steelblue', edgecolor='black', alpha=0.6)\n",
    "\n",
    "# Title and labels\n",
    "plt.title('Distribution of Tweet Lengths (Word Count)', fontsize=14)\n",
    "plt.xlabel('Tweet Length (words)', fontsize=12)\n",
    "plt.ylabel('Frequency', fontsize=12)\n",
    "plt.tight_layout()\n",
    "plt.show()"
   ]
  },
  {
   "cell_type": "markdown",
   "id": "ff7f5e87",
   "metadata": {},
   "source": [
    "### Tweet Length (characters) Distribution by Class\n",
    "\n",
    "Each tweet in the dataset was analyzed for its length in characters. The resulting values were stored in a column called `text_length`.\n",
    "\n",
    "The plot below shows the distribution of tweet lengths for both disaster and non-disaster tweets. A histogram and kernel density estimate (KDE) were used to visualize the frequency and underlying distribution of character counts.\n",
    "\n",
    "The `target` variable was used as a hue to separate the two classes:\n",
    "- Tweets with `target = 0` (non-disaster) are shown in green.\n",
    "- Tweets with `target = 1` (disaster) are shown in red.\n",
    "\n",
    "The legend was manually updated after rendering to correctly label each class without disrupting the color mapping.\n",
    "\n",
    "The distribution indicates that non-disaster tweets tend to have a sharp peak at specific lengths, while disaster tweets follow a slightly more dispersed pattern. These differences in tweet length may provide useful signals for distinguishing between the two classes during model training."
   ]
  },
  {
   "cell_type": "code",
   "execution_count": 7,
   "id": "858f1b61",
   "metadata": {},
   "outputs": [
    {
     "data": {
      "image/png": "[encoded data removed]",
      "text/plain": [
       "<Figure size 576x360 with 1 Axes>"
      ]
     },
     "metadata": {
      "needs_background": "light"
     },
     "output_type": "display_data"
    }
   ],
   "source": [
    "# Calculate tweet length in characters\n",
    "train_df['text_length_char'] = train_df['text'].apply(len)\n",
    "\n",
    "# KDE + Histogram by Class\n",
    "plt.figure(figsize=(8, 5))\n",
    "ax = sns.histplot(\n",
    "    data=train_df,\n",
    "    x='text_length_char',\n",
    "    hue='target',\n",
    "    kde=True,\n",
    "    bins=40,\n",
    "    palette={0: 'green', 1: 'red'},\n",
    "    element='step',\n",
    "    stat='density',\n",
    "    common_norm=False\n",
    ")\n",
    "\n",
    "# Fix legend labels AFTER plot is drawn\n",
    "legend = ax.get_legend()\n",
    "legend.set_title('Target')\n",
    "legend_labels = legend.get_texts()\n",
    "\n",
    "# Manually relabel: assumes order [0, 1]\n",
    "legend_labels[0].set_text('Non-Disaster')\n",
    "legend_labels[1].set_text('Disaster')\n",
    "\n",
    "plt.title('Tweet Length Distribution by Class', fontsize=14)\n",
    "plt.xlabel('Tweet Length (characters)', fontsize=12)\n",
    "plt.ylabel('Density', fontsize=12)\n",
    "plt.tight_layout()\n",
    "plt.show()"
   ]
  },
  {
   "cell_type": "markdown",
   "id": "541530e9",
   "metadata": {},
   "source": [
    "### Top 20 Keywords by Tweet Type\n",
    "\n",
    "The bar chart below displays the 20 most frequent keywords in the training dataset, grouped by tweet type: non-disaster (green) and disaster (red).\n",
    "\n",
    "Each keyword appears in both classes to varying degrees, indicating that disaster-related terms are not exclusive to tweets about real disasters. For example, words like \"wrecked\", \"explosion\", and \"earthquake\" are often used in figurative or exaggerated contexts.\n",
    "\n",
    "This highlights a key challenge of the task: identifying the intent behind tweets that contain disaster-related words. The plot also reflects class imbalance for several keywords, where one class dominates the other. This insight is useful for feature engineering and understanding potential bias in the dataset.\n"
   ]
  },
  {
   "cell_type": "code",
   "execution_count": 8,
   "id": "ff59b90e",
   "metadata": {
    "scrolled": false
   },
   "outputs": [
    {
     "data": {
      "image/png": "[encoded data removed]",
      "text/plain": [
       "<Figure size 1008x504 with 1 Axes>"
      ]
     },
     "metadata": {},
     "output_type": "display_data"
    },
    {
     "name": "stdout",
     "output_type": "stream",
     "text": [
      "Total unique keywords (including NaN): 221\n"
     ]
    }
   ],
   "source": [
    "# Ensure Seaborn style for better visuals\n",
    "sns.set_style(\"whitegrid\")\n",
    "\n",
    "# Group by 'keyword' and 'target', then reshape with unstack\n",
    "keyword_target_counts = train_df.groupby(['keyword', 'target']).size().unstack(fill_value=0)\n",
    "\n",
    "# Optional: Rename 'unknown' if missing keywords are present\n",
    "if train_df['keyword'].isna().any():\n",
    "    keyword_target_counts.index = keyword_target_counts.index.fillna('NaN')\n",
    "\n",
    "# Ensure consistent column order: 0 = Non-Disaster, 1 = Disaster\n",
    "keyword_target_counts = keyword_target_counts[[0, 1]]\n",
    "\n",
    "# Get top 20 keywords by total frequency\n",
    "top_keywords = keyword_target_counts.sum(axis=1).sort_values(ascending=False).head(20).index\n",
    "plot_data = keyword_target_counts.loc[top_keywords]\n",
    "\n",
    "# Plotting\n",
    "fig, ax = plt.subplots(figsize=(14, 7))\n",
    "plot_data.plot(kind='bar', color=['green', 'red'], ax=ax)\n",
    "\n",
    "# Title and labels\n",
    "plt.title('Top 20 Keywords by Tweet Type (Non-Disaster vs. Disaster)', fontsize=16)\n",
    "plt.xlabel('Keyword', fontsize=12)\n",
    "plt.ylabel('Tweet Count', fontsize=12)\n",
    "plt.xticks(rotation=45, ha='right')\n",
    "plt.legend(['Non-Disaster (0)', 'Disaster (1)'], title='Tweet Type', fontsize=10)\n",
    "\n",
    "plt.tight_layout()\n",
    "plt.show()\n",
    "\n",
    "# Print total unique keywords for context\n",
    "print(f\"Total unique keywords (including NaN): {len(keyword_target_counts)}\")"
   ]
  },
  {
   "cell_type": "markdown",
   "id": "998be86f",
   "metadata": {},
   "source": [
    "## 3. Data Cleaning Procedure\n",
    "\n",
    "Before feeding tweets into the model, I wrote a function to clean them up — removing links, mentions, emojis, and weird punctuation. I also lowercase everything and optionally lemmatize for better analysis. Here's what the function looks like:\n",
    "\n",
    "1. **Remove URLs**  \n",
    "   All web links (e.g., `http://...`, `www...`) are removed to eliminate irrelevant external content.\n",
    "\n",
    "2. **Remove Hashtag Symbols**  \n",
    "   The `#` symbol is removed to preserve the keyword but discard the symbol itself (e.g., `#earthquake` becomes `earthquake`).\n",
    "\n",
    "3. **Remove Mentions**  \n",
    "   Twitter mentions (e.g., `@user`) are removed to eliminate user references that do not contribute meaningfully to classification.\n",
    "\n",
    "4. **Remove Special Characters and Punctuation**  \n",
    "   All non-alphanumeric characters (except whitespace) are removed to simplify the text.\n",
    "\n",
    "5. **Remove Emoticons**  \n",
    "   Common emoticons like `:)`, `:(`, `:D`, `:P` are removed to reduce informal noise in the data.\n",
    "\n",
    "6. **Convert to Lowercase**  \n",
    "   The text is converted to lowercase to normalize the vocabulary and reduce case-related duplication.\n",
    "\n",
    "7. **Remove Extra Whitespace**  \n",
    "   Multiple spaces are collapsed into a single space, and any leading/trailing spaces are removed.\n",
    "\n",
    "8. **Optional Lemmatization (for EDA only)**  \n",
    "   When `for_eda=True`, the cleaned tweet is tokenized using spaCy. Tokens are lemmatized, stopwords are removed, and only alphabetic tokens with more than one character are kept. The result is a simplified and normalized version of the tweet for exploratory analysis."
   ]
  },
  {
   "cell_type": "code",
   "execution_count": 9,
   "id": "53f2c701",
   "metadata": {},
   "outputs": [],
   "source": [
    "def clean_tweet(tweet, for_eda=False, for_vector=False):\n",
    "    if not isinstance(tweet, str):\n",
    "        return \"\"\n",
    "    # Lowercase the text\n",
    "    tweet = tweet.lower()\n",
    "    # Remove URLs\n",
    "    tweet = re.sub(r\"http\\S+|www\\S+|https\\S+\", '', tweet)\n",
    "    # Remove mentions\n",
    "    tweet = re.sub(r'\\@\\w+', '', tweet)\n",
    "    # Remove hashtags completely (e.g., #disaster → '')\n",
    "    tweet = re.sub(r'#\\w+', '', tweet)\n",
    "    # Remove special characters and punctuation\n",
    "    tweet = re.sub(r'[^\\w\\s]', '', tweet)\n",
    "    # Remove emoticons (text-based emojis)\n",
    "    tweet = re.sub(r'(?::|;|=)(?:-)?(?:\\)|\\(|D|P)', '', tweet)\n",
    "    # Remove non-ASCII characters (e.g., emojis, accented characters)\n",
    "    tweet = re.sub(r'[^\\x00-\\x7F]+', '', tweet)\n",
    "    # Normalize whitespace\n",
    "    tweet = re.sub(r'\\s+', ' ', tweet).strip()\n",
    "    # Optional: Tokenize, lemmatize, remove stopwords, etc.\n",
    "    if for_eda:\n",
    "        cleaned_tokens = [\n",
    "            token.lemma_ for token in nlp(tweet)\n",
    "            if not token.is_stop and token.is_alpha and len(token) > 1\n",
    "        ]\n",
    "        tweet = \" \".join(cleaned_tokens)\n",
    "    return tweet"
   ]
  },
  {
   "cell_type": "markdown",
   "id": "16e2cf47",
   "metadata": {},
   "source": [
    "#### 📌 Example\n",
    "\n",
    "**Original Tweet:**  "
   ]
  },
  {
   "cell_type": "code",
   "execution_count": 10,
   "id": "e9282726",
   "metadata": {},
   "outputs": [
    {
     "data": {
      "text/plain": [
       "'@bbcmtd Wholesale Markets ablaze http://t.co/lHYXEOHY6C'"
      ]
     },
     "execution_count": 10,
     "metadata": {},
     "output_type": "execute_result"
    }
   ],
   "source": [
    "train_df['text'][31]"
   ]
  },
  {
   "cell_type": "markdown",
   "id": "52b14a88",
   "metadata": {},
   "source": [
    "**Cleaned Tweet (for EDA):**"
   ]
  },
  {
   "cell_type": "code",
   "execution_count": 11,
   "id": "9b3d73a6",
   "metadata": {},
   "outputs": [
    {
     "data": {
      "text/plain": [
       "'wholesale market ablaze'"
      ]
     },
     "execution_count": 11,
     "metadata": {},
     "output_type": "execute_result"
    }
   ],
   "source": [
    "test_df['cleaned_tweet'] = test_df['text'].apply(clean_tweet, args=[True])\n",
    "\n",
    "train_df['cleaned_tweet'] = train_df['text'].apply(clean_tweet, args=[True])\n",
    "train_df['cleaned_tweet'][31]"
   ]
  },
  {
   "cell_type": "markdown",
   "id": "7becf8cc",
   "metadata": {
    "_cell_guid": "97747fb7-daa9-4266-b60c-23101028c7cd",
    "_uuid": "459d5ce1-f0a8-4954-a6c5-2699386c9b60",
    "jupyter": {
     "outputs_hidden": false
    },
    "papermill": {
     "duration": 0.009804,
     "end_time": "2025-04-19T07:31:59.020426",
     "exception": false,
     "start_time": "2025-04-19T07:31:59.010622",
     "status": "completed"
    },
    "tags": []
   },
   "source": [
    "### Tokenize and Pad Tweets\n",
    "\n",
    "Before training the neural network, the cleaned tweet text must be transformed into a numerical format. In this step, I use the Keras `Tokenizer` to convert each tweet into a sequence of integers, where each integer represents a word's rank in the vocabulary based on frequency.\n",
    "\n",
    "I limit the vocabulary to the top **15,000 most frequent words** in the dataset to reduce complexity and focus on meaningful tokens. Each tweet is then padded or truncated to a fixed length of **100 tokens** to ensure uniform input dimensions, which is required for feeding the data into a sequential neural network model.\n",
    "\n",
    "Finally, I extract the target variable, renamed here as `disaster_flag`, which serves as the label indicating whether a tweet refers to a real disaster (`1`) or not (`0`).\n"
   ]
  },
  {
   "cell_type": "code",
   "execution_count": 12,
   "id": "f5369853",
   "metadata": {},
   "outputs": [],
   "source": [
    "# Set vocabulary size and max sequence length\n",
    "vocab_size = 15000      # Only keep the top 15,000 most common words\n",
    "sequence_length = 100   # All tweet sequences will be padded/truncated to 100 tokens\n",
    "\n",
    "# Initialize the tokenizer\n",
    "tokenizer = Tokenizer(num_words=vocab_size)\n",
    "\n",
    "# Fit the tokenizer on the cleaned training tweets (build word index)\n",
    "tokenizer.fit_on_texts(train_df['cleaned_tweet'])\n",
    "\n",
    "# Convert tweets into sequences of word IDs\n",
    "train_sequences = tokenizer.texts_to_sequences(train_df['cleaned_tweet'])\n",
    "test_sequences = tokenizer.texts_to_sequences(test_df['cleaned_tweet'])\n",
    "\n",
    "# Pad sequences so they all have the same length\n",
    "X_train = pad_sequences(train_sequences, maxlen=sequence_length, padding='pre')\n",
    "X_test = pad_sequences(test_sequences, maxlen=sequence_length, padding='pre')\n",
    "\n",
    "# Extract target labels\n",
    "y_train = train_df['target'].values"
   ]
  },
  {
   "cell_type": "markdown",
   "id": "c8187527",
   "metadata": {
    "_cell_guid": "68f73284-0e26-403a-b174-da3c16183612",
    "_uuid": "1617e13a-7dc7-4e7b-a4f5-5432aeb56d5a",
    "jupyter": {
     "outputs_hidden": false
    },
    "papermill": {
     "duration": 0.00997,
     "end_time": "2025-04-19T07:31:59.426198",
     "exception": false,
     "start_time": "2025-04-19T07:31:59.416228",
     "status": "completed"
    },
    "tags": []
   },
   "source": [
    "### Split Data into Training and Validation Sets\n",
    "\n",
    "Before training the model, I split the padded tweet data into training and validation sets using an 80/20 ratio. Stratified sampling is applied to maintain the same proportion of disaster vs. non-disaster tweets in both sets, which is important for balanced evaluation.\n",
    "\n",
    "I also define a utility function to convert NumPy arrays into `tf.data.Dataset` objects. This format is more efficient for training deep learning models in TensorFlow because it supports optimized data loading, automatic batching, and prefetching.\n",
    "\n",
    "In the training dataset, I apply shuffling to ensure the model doesn't learn any sequence-specific bias. The validation dataset is not shuffled to maintain consistency during evaluation."
   ]
  },
  {
   "cell_type": "code",
   "execution_count": 13,
   "id": "82a1c0a4",
   "metadata": {},
   "outputs": [],
   "source": [
    "# Set the batch size for model training\n",
    "batch_size = 64\n",
    "\n",
    "# Split the padded training data into training and validation sets (80/20 split)\n",
    "# Stratify ensures both sets have a similar distribution of the target labels\n",
    "X_train_split, X_val, y_train_split, y_val = train_test_split(\n",
    "    X_train,\n",
    "    y_train,\n",
    "    test_size=0.2,\n",
    "    random_state=42,\n",
    "    stratify=y_train\n",
    ")\n",
    "\n",
    "# Function to create a TensorFlow dataset for efficient input pipeline\n",
    "def create_tf_dataset(features, labels, batch_size=64, shuffle=True):\n",
    "    \"\"\"\n",
    "    Converts input features and labels into a tf.data.Dataset object.\n",
    "    Enables shuffling, batching, and prefetching for performance.\n",
    "    \"\"\"\n",
    "    dataset = tf.data.Dataset.from_tensor_slices((features, labels))\n",
    "    \n",
    "    if shuffle:\n",
    "        dataset = dataset.shuffle(buffer_size=10000)\n",
    "\n",
    "    dataset = dataset.batch(batch_size)\n",
    "    dataset = dataset.prefetch(tf.data.experimental.AUTOTUNE)\n",
    "\n",
    "    return dataset\n",
    "\n",
    "# Create the training and validation datasets\n",
    "train_dataset = create_tf_dataset(X_train_split, y_train_split, batch_size, shuffle=True)\n",
    "val_dataset = create_tf_dataset(X_val, y_val, batch_size, shuffle=False)"
   ]
  },
  {
   "cell_type": "markdown",
   "id": "09bf277b",
   "metadata": {
    "_cell_guid": "a7d0d2e2-c58f-4f7a-a40f-5617459f6a75",
    "_uuid": "1913b268-27b2-4b85-be17-8efc31c13ee2",
    "jupyter": {
     "outputs_hidden": false
    },
    "papermill": {
     "duration": 0.010202,
     "end_time": "2025-04-19T07:31:59.655953",
     "exception": false,
     "start_time": "2025-04-19T07:31:59.645751",
     "status": "completed"
    },
    "tags": []
   },
   "source": [
    "## 5. Build Model\n",
    "\n",
    "For this binary text classification task, I use a GRU (Gated Recurrent Unit) neural network. GRUs are effective for working with sequence data like tweets because they can capture patterns over time steps while being more computationally efficient than LSTMs.\n",
    "\n",
    "The model architecture consists of the following layers:\n",
    "\n",
    "- **Input Layer**: Accepts a fixed-length padded sequence of integers representing tokenized words (100 tokens per tweet).\n",
    "- **Embedding Layer**: Converts each word ID into a dense vector. These embeddings are learned during training and help the model understand semantic relationships between words.\n",
    "- **SpatialDropout1D**: Randomly drops entire word vectors during training, which helps prevent overfitting and improves generalization.\n",
    "- **GRU Layer**: Captures sequential and contextual patterns in the tweet data. GRUs are designed to handle dependencies over time without the complexity of LSTMs.\n",
    "- **Dense Output Layer**: A single neuron with a sigmoid activation outputs a probability between 0 and 1, representing the likelihood that the tweet is about a real disaster.\n",
    "\n",
    "The model is compiled using:\n",
    "- **Loss Function**: `binary_crossentropy`, which is standard for binary classification tasks.\n",
    "- **Optimizer**: `Adam`, a fast and adaptive learning rate optimizer.\n",
    "- **Metric**: `accuracy`, to monitor performance during training and validation.\n",
    "\n",
    "---\n",
    "\n",
    "### Why Use Word Embeddings?\n",
    "\n",
    "Word embeddings transform text into compact numeric vectors that capture semantic meaning. Unlike one-hot encoding, which is sparse and doesn't capture context, embeddings group similar words close together in vector space.\n",
    "\n",
    "**Methods of Embedding:**\n",
    "- **Keras Embedding Layer**: Learns word vectors from scratch as part of the training process.\n",
    "- **Word2Vec**: Predicts context or target words using skip-gram or CBOW techniques.\n",
    "- **GloVe**: Builds embeddings based on global word co-occurrence statistics across a corpus.\n",
    "- **TF-IDF**: Assigns weights to words based on frequency and inverse document frequency, but it doesn’t capture semantic similarity like embeddings do.\n",
    "\n",
    "For this project, I used the **Keras Embedding layer** so the word vectors are optimized specifically for the disaster tweet classification task.\n"
   ]
  },
  {
   "cell_type": "code",
   "execution_count": 14,
   "id": "3d569d00",
   "metadata": {},
   "outputs": [],
   "source": [
    "def build_gru_model(vocab_size=15000, sequence_length=100, embedding_dim=128, gru_units=64, dropout_rate=0.2, learning_rate=0.001):\n",
    "    \"\"\"\n",
    "    Builds and compiles a GRU-based binary classification model for disaster tweet classification.\n",
    "\n",
    "    Parameters:\n",
    "    - vocab_size (int): number of unique words in the vocabulary.\n",
    "    - sequence_length (int): length to which all tweet sequences are padded/truncated.\n",
    "    - embedding_dim (int): dimension of the embedding vectors.\n",
    "    - gru_units (int): number of units in the GRU layer.\n",
    "    - dropout_rate (float): dropout rate for regularization.\n",
    "    - learning_rate (float): learning rate for the Adam optimizer.\n",
    "\n",
    "    Returns:\n",
    "    - model (tf.keras.Model): compiled GRU-based Keras model.\n",
    "    \"\"\"\n",
    "\n",
    "    # Input layer accepting fixed-length padded sequences\n",
    "    input_layer = Input(shape=(sequence_length,), name=\"Input_Tweet\")\n",
    "    # Embedding layer to learn dense representations of words\n",
    "    x = Embedding(input_dim=vocab_size, output_dim=embedding_dim, input_length=sequence_length)(input_layer)\n",
    "    # Spatial dropout to prevent overfitting on embedding layer\n",
    "    x = SpatialDropout1D(rate=dropout_rate)(x)\n",
    "    # GRU layer for sequence modeling\n",
    "    x = GRU(units=gru_units, dropout=dropout_rate, recurrent_dropout=dropout_rate)(x)\n",
    "    # Output layer for binary classification\n",
    "    output_layer = Dense(1, activation='sigmoid', name=\"Output_Label\")(x)\n",
    "    # Define the model\n",
    "    model = Model(inputs=input_layer, outputs=output_layer)\n",
    "    # Compile the model with binary crossentropy loss and accuracy metric\n",
    "    model.compile(\n",
    "        loss='binary_crossentropy',\n",
    "        optimizer=Adam(learning_rate=learning_rate),\n",
    "        metrics=['accuracy']\n",
    "    )\n",
    "\n",
    "    return model"
   ]
  },
  {
   "cell_type": "markdown",
   "id": "3382b5a9",
   "metadata": {
    "_cell_guid": "418f2a7a-46f1-40c7-a0a2-75af65ef95db",
    "_uuid": "e0b17c1a-d8ea-47aa-8738-ab2c72faf75c",
    "jupyter": {
     "outputs_hidden": false
    },
    "papermill": {
     "duration": 0.00981,
     "end_time": "2025-04-19T07:31:59.724541",
     "exception": false,
     "start_time": "2025-04-19T07:31:59.714731",
     "status": "completed"
    },
    "tags": []
   },
   "source": [
    "### Configure Callbacks\n",
    "\n",
    "To improve model training and avoid overfitting, I configure three important callbacks:\n",
    "\n",
    "- **EarlyStopping**: Monitors the validation loss and stops training if it doesn't improve for 4 consecutive epochs. This helps avoid wasting time on overfitting models and restores the weights from the epoch with the best validation loss.\n",
    "\n",
    "- **ModelCheckpoint**: Automatically saves the model whenever it achieves the lowest validation loss during training. This ensures that I retain the best version of the model even if later epochs degrade in performance.\n",
    "\n",
    "- **ReduceLROnPlateau**: Monitors validation loss and reduces the learning rate by a factor of 0.5 if no improvement is seen for 2 epochs. This helps the model fine-tune its learning during later stages of training.\n",
    "\n",
    "All checkpoints are saved under the `model_checkpoints` directory. This setup ensures that the model is trained efficiently, with safeguards against overfitting and learning stagnation.\n"
   ]
  },
  {
   "cell_type": "code",
   "execution_count": 15,
   "id": "c95c9ab5",
   "metadata": {},
   "outputs": [],
   "source": [
    "def configure_callbacks(checkpoint_dir='model_checkpoints', checkpoint_name='gru_best.keras'):\n",
    "    \"\"\"\n",
    "    Sets up callbacks to monitor validation performance and improve training stability.\n",
    "\n",
    "    Returns:\n",
    "    - A list of Keras callbacks: EarlyStopping, ModelCheckpoint, and ReduceLROnPlateau.\n",
    "    \"\"\"\n",
    "    \n",
    "    # Create directory for model checkpoints if it doesn't exist\n",
    "    if not os.path.exists(checkpoint_dir):\n",
    "        os.makedirs(checkpoint_dir)\n",
    "\n",
    "    checkpoint_path = os.path.join(checkpoint_dir, checkpoint_name)\n",
    "\n",
    "    callbacks = [\n",
    "        # Stop training early if validation loss doesn't improve\n",
    "        EarlyStopping(\n",
    "            monitor='val_loss',\n",
    "            patience=4,\n",
    "            restore_best_weights=True,\n",
    "            verbose=1\n",
    "        ),\n",
    "        # Save the model with the lowest validation loss\n",
    "        ModelCheckpoint(\n",
    "            filepath=checkpoint_path,\n",
    "            monitor='val_loss',\n",
    "            save_best_only=True,\n",
    "            verbose=1\n",
    "        ),\n",
    "        # Reduce learning rate when validation loss plateaus\n",
    "        tf.keras.callbacks.ReduceLROnPlateau(\n",
    "            monitor='val_loss',\n",
    "            factor=0.5,\n",
    "            patience=2,\n",
    "            min_lr=1e-6,\n",
    "            verbose=1\n",
    "        )\n",
    "    ]\n",
    "\n",
    "    return callbacks"
   ]
  },
  {
   "cell_type": "markdown",
   "id": "eca24e36",
   "metadata": {
    "_cell_guid": "08511b90-b46d-4ad0-a814-d0ca5f4da7ac",
    "_uuid": "bc0e4b96-a143-4738-b652-d4b017885dfc",
    "jupyter": {
     "outputs_hidden": false
    },
    "papermill": {
     "duration": 0.010485,
     "end_time": "2025-04-19T07:31:59.773858",
     "exception": false,
     "start_time": "2025-04-19T07:31:59.763373",
     "status": "completed"
    },
    "tags": []
   },
   "source": [
    "### Train the GRU Model\n",
    "\n",
    "I begin model training by first initializing the GRU model using the architecture defined earlier. The model includes an embedding layer, GRU units, and dropout for regularization.\n",
    "\n",
    "Before training, I also configure the necessary callbacks:\n",
    "- **EarlyStopping** prevents overfitting by halting training when validation loss stops improving.\n",
    "- **ModelCheckpoint** ensures the best-performing model is saved automatically.\n",
    "- **ReduceLROnPlateau** adjusts the learning rate to help fine-tune the model once learning plateaus.\n",
    "\n",
    "Finally, I print a summary of the model structure to confirm the number of layers and parameters.\n",
    "l"
   ]
  },
  {
   "cell_type": "code",
   "execution_count": 16,
   "id": "4d5161dd",
   "metadata": {},
   "outputs": [
    {
     "name": "stdout",
     "output_type": "stream",
     "text": [
      "\n",
      "GRU Model Summary:\n",
      "Model: \"functional_1\"\n",
      "_________________________________________________________________\n",
      "Layer (type)                 Output Shape              Param #   \n",
      "=================================================================\n",
      "Input_Tweet (InputLayer)     [(None, 100)]             0         \n",
      "_________________________________________________________________\n",
      "embedding (Embedding)        (None, 100, 128)          1920000   \n",
      "_________________________________________________________________\n",
      "spatial_dropout1d (SpatialDr (None, 100, 128)          0         \n",
      "_________________________________________________________________\n",
      "gru (GRU)                    (None, 64)                37248     \n",
      "_________________________________________________________________\n",
      "Output_Label (Dense)         (None, 1)                 65        \n",
      "=================================================================\n",
      "Total params: 1,957,313\n",
      "Trainable params: 1,957,313\n",
      "Non-trainable params: 0\n",
      "_________________________________________________________________\n"
     ]
    }
   ],
   "source": [
    "# Initialize the GRU model with specified architecture\n",
    "gru_model = build_gru_model(\n",
    "    vocab_size=vocab_size,                 # 15,000 most common words\n",
    "    sequence_length=sequence_length,       # 100 tokens per tweet\n",
    "    embedding_dim=128,\n",
    "    gru_units=64,\n",
    "    dropout_rate=0.2,\n",
    "    learning_rate=0.001\n",
    ")\n",
    "\n",
    "# Display the model architecture\n",
    "print(\"\\nGRU Model Summary:\")\n",
    "gru_model.summary()\n",
    "\n",
    "# Load training callbacks (early stopping, checkpointing, LR scheduler)\n",
    "callbacks = configure_callbacks()"
   ]
  },
  {
   "cell_type": "markdown",
   "id": "39cb1fd4",
   "metadata": {},
   "source": [
    "### Train the Model and Save History\n",
    "\n",
    "The GRU model is trained for 10 epochs using the training and validation datasets created earlier. I include callbacks to:\n",
    "- Stop early if validation loss doesn’t improve\n",
    "- Save the best-performing model\n",
    "- Reduce learning rate when the model stops improving\n",
    "\n",
    "During training, TensorFlow will report progress per epoch including accuracy and loss metrics. After training, I save the training history (loss and accuracy per epoch) as a CSV file under the `model_checkpoints/` directory. This allows for easy visualization and comparison of training performance later.\n"
   ]
  },
  {
   "cell_type": "code",
   "execution_count": 17,
   "id": "b0cdcf81",
   "metadata": {},
   "outputs": [
    {
     "name": "stdout",
     "output_type": "stream",
     "text": [
      "\n",
      "Starting training...\n",
      "Epoch 1/10\n",
      "96/96 [==============================] - ETA: 0s - loss: 0.5937 - accuracy: 0.6703\n",
      "Epoch 00001: val_loss improved from inf to 0.46944, saving model to model_checkpoints\\gru_best.keras\n",
      "96/96 [==============================] - 20s 209ms/step - loss: 0.5937 - accuracy: 0.6703 - val_loss: 0.4694 - val_accuracy: 0.7886\n",
      "Epoch 2/10\n",
      "96/96 [==============================] - ETA: 0s - loss: 0.3570 - accuracy: 0.8471\n",
      "Epoch 00002: val_loss improved from 0.46944 to 0.45393, saving model to model_checkpoints\\gru_best.keras\n",
      "96/96 [==============================] - 17s 172ms/step - loss: 0.3570 - accuracy: 0.8471 - val_loss: 0.4539 - val_accuracy: 0.8083\n",
      "Epoch 3/10\n",
      "96/96 [==============================] - ETA: 0s - loss: 0.2390 - accuracy: 0.9062\n",
      "Epoch 00003: val_loss did not improve from 0.45393\n",
      "96/96 [==============================] - 16s 168ms/step - loss: 0.2390 - accuracy: 0.9062 - val_loss: 0.5066 - val_accuracy: 0.7722\n",
      "Epoch 4/10\n",
      "96/96 [==============================] - ETA: 0s - loss: 0.1763 - accuracy: 0.9315 ETA: 1s - loss: 0\n",
      "Epoch 00004: val_loss did not improve from 0.45393\n",
      "\n",
      "Epoch 00004: ReduceLROnPlateau reducing learning rate to 0.0005000000237487257.\n",
      "96/96 [==============================] - 16s 170ms/step - loss: 0.1763 - accuracy: 0.9315 - val_loss: 0.5822 - val_accuracy: 0.7807\n",
      "Epoch 5/10\n",
      "96/96 [==============================] - ETA: 0s - loss: 0.1207 - accuracy: 0.9578\n",
      "Epoch 00005: val_loss did not improve from 0.45393\n",
      "96/96 [==============================] - 16s 168ms/step - loss: 0.1207 - accuracy: 0.9578 - val_loss: 0.6519 - val_accuracy: 0.7800\n",
      "Epoch 6/10\n",
      "96/96 [==============================] - ETA: 0s - loss: 0.0987 - accuracy: 0.9635Restoring model weights from the end of the best epoch.\n",
      "\n",
      "Epoch 00006: val_loss did not improve from 0.45393\n",
      "\n",
      "Epoch 00006: ReduceLROnPlateau reducing learning rate to 0.0002500000118743628.\n",
      "96/96 [==============================] - 16s 162ms/step - loss: 0.0987 - accuracy: 0.9635 - val_loss: 0.7241 - val_accuracy: 0.7603\n",
      "Epoch 00006: early stopping\n",
      "\n",
      "Training complete. History saved to: model_checkpoints/training_history.csv\n"
     ]
    }
   ],
   "source": [
    "# Begin training the GRU model\n",
    "print(\"\\nStarting training...\")\n",
    "\n",
    "history = gru_model.fit(\n",
    "    train_dataset,                 # training dataset (tf.data.Dataset)\n",
    "    epochs=10,                     # number of training epochs\n",
    "    validation_data=val_dataset,  # validation dataset\n",
    "    callbacks=callbacks,          # early stopping, model checkpoint, LR scheduler\n",
    "    verbose=1                      # show detailed training progress\n",
    ")\n",
    "\n",
    "# Convert training history to DataFrame for analysis\n",
    "history_df = pd.DataFrame(history.history)\n",
    "\n",
    "# Save training history to CSV for future reference\n",
    "history_path = 'model_checkpoints/training_history.csv'\n",
    "history_df.to_csv(history_path, index=False)\n",
    "\n",
    "print(f\"\\nTraining complete. History saved to: {history_path}\")"
   ]
  },
  {
   "cell_type": "markdown",
   "id": "4216bf8f",
   "metadata": {},
   "source": [
    "### Visualize Learning Curves\n",
    "\n",
    "After training, I plot the learning curves to evaluate how well the model performed over time.\n",
    "\n",
    "- **Left Plot**: Shows how training and validation accuracy evolved with each epoch.\n",
    "- **Right Plot**: Shows how training and validation loss changed over time.\n",
    "\n",
    "These curves help detect overfitting or underfitting:\n",
    "- If validation loss increases while training loss decreases, the model may be overfitting.\n",
    "- If both training and validation metrics improve together, the model is likely learning effectively."
   ]
  },
  {
   "cell_type": "code",
   "execution_count": 18,
   "id": "cd77eb37",
   "metadata": {},
   "outputs": [
    {
     "data": {
      "image/png": "[encoded data removed]",
      "text/plain": [
       "<Figure size 1008x360 with 2 Axes>"
      ]
     },
     "metadata": {},
     "output_type": "display_data"
    }
   ],
   "source": [
    "# Create side-by-side plots for accuracy and loss\n",
    "plt.figure(figsize=(14, 5))\n",
    "\n",
    "# Plot training and validation accuracy\n",
    "plt.subplot(1, 2, 1)\n",
    "plt.plot(history.history['accuracy'], label='Training Accuracy', marker='o')\n",
    "plt.plot(history.history['val_accuracy'], label='Validation Accuracy', marker='s')\n",
    "plt.title('Model Accuracy per Epoch')\n",
    "plt.xlabel('Epoch')\n",
    "plt.ylabel('Accuracy')\n",
    "plt.legend()\n",
    "plt.grid(True)\n",
    "\n",
    "# Plot training and validation loss\n",
    "plt.subplot(1, 2, 2)\n",
    "plt.plot(history.history['loss'], label='Training Loss', marker='o')\n",
    "plt.plot(history.history['val_loss'], label='Validation Loss', marker='s')\n",
    "plt.title('Model Loss per Epoch')\n",
    "plt.xlabel('Epoch')\n",
    "plt.ylabel('Loss')\n",
    "plt.legend()\n",
    "plt.grid(True)\n",
    "\n",
    "# Final layout adjustment and display\n",
    "plt.tight_layout()\n",
    "plt.show()"
   ]
  },
  {
   "cell_type": "markdown",
   "id": "d009e2ab",
   "metadata": {
    "_cell_guid": "62bb2dd4-e823-4b57-8f5a-df52f818675d",
    "_uuid": "8fa4d3b4-7215-47b7-bdc7-9dff66d9ab07",
    "jupyter": {
     "outputs_hidden": false
    },
    "papermill": {
     "duration": 0.051041,
     "end_time": "2025-04-19T07:33:12.584861",
     "exception": false,
     "start_time": "2025-04-19T07:33:12.533820",
     "status": "completed"
    },
    "tags": []
   },
   "source": [
    "### Evaluate Model on Validation Set\n",
    "\n",
    "After training, I evaluate the GRU model using the validation data:\n",
    "\n",
    "- **Predictions**: The model outputs probabilities between 0 and 1. These are converted to binary predictions using a threshold of 0.5.\n",
    "- **Accuracy**: Measures how often the model correctly classifies tweets.\n",
    "- **F1 Score**: Balances precision and recall — especially useful for imbalanced datasets.\n",
    "- **Confusion Matrix**: Helps understand where the model makes correct and incorrect predictions.\n",
    "\n",
    "A classification report is also printed to show precision, recall, and F1 score for each class (disaster and non-disaster).\n"
   ]
  },
  {
   "cell_type": "code",
   "execution_count": 19,
   "id": "97afcb53",
   "metadata": {},
   "outputs": [
    {
     "name": "stdout",
     "output_type": "stream",
     "text": [
      "\n",
      "GRU Model Evaluation Results:\n",
      "Validation Accuracy: 0.8083\n",
      "Validation F1 Score: 0.7649\n"
     ]
    }
   ],
   "source": [
    "# Predict probabilities on the validation set\n",
    "y_pred_proba = gru_model.predict(X_val, batch_size=batch_size)\n",
    "\n",
    "# Convert probabilities to binary class predictions using threshold = 0.5\n",
    "y_pred = (y_pred_proba > 0.5).astype(int).flatten()\n",
    "\n",
    "# Calculate accuracy and F1 score\n",
    "accuracy = np.mean(y_pred == y_val)\n",
    "f1 = f1_score(y_val, y_pred)\n",
    "\n",
    "# Compute confusion matrix\n",
    "cm = confusion_matrix(y_val, y_pred)\n",
    "\n",
    "# Print evaluation metrics\n",
    "print(\"\\nGRU Model Evaluation Results:\")\n",
    "print(f\"Validation Accuracy: {accuracy:.4f}\")\n",
    "print(f\"Validation F1 Score: {f1:.4f}\")"
   ]
  },
  {
   "cell_type": "code",
   "execution_count": 20,
   "id": "e634947c",
   "metadata": {},
   "outputs": [
    {
     "name": "stdout",
     "output_type": "stream",
     "text": [
      "\n",
      "Classification Report:\n",
      "              precision    recall  f1-score   support\n",
      "\n",
      "Non-Disaster       0.81      0.87      0.84       869\n",
      "    Disaster       0.81      0.73      0.76       654\n",
      "\n",
      "    accuracy                           0.81      1523\n",
      "   macro avg       0.81      0.80      0.80      1523\n",
      "weighted avg       0.81      0.81      0.81      1523\n",
      "\n"
     ]
    }
   ],
   "source": [
    "# Print detailed classification report\n",
    "print(\"\\nClassification Report:\")\n",
    "print(classification_report(y_val, y_pred, target_names=['Non-Disaster', 'Disaster']))"
   ]
  },
  {
   "cell_type": "markdown",
   "id": "401497ed",
   "metadata": {},
   "source": [
    "### Plot Confusion Matrix\n",
    "\n",
    "To get a better feel for how the model's doing, here’s a labeled confusion matrix. I added labels to show what's being predicted correctly and where the model’s getting confused — like calling a disaster tweet “non-disaster” and vice versa."
   ]
  },
  {
   "cell_type": "code",
   "execution_count": 21,
   "id": "7fcd291d",
   "metadata": {
    "scrolled": false
   },
   "outputs": [
    {
     "data": {
      "image/png": "[encoded data removed]",
      "text/plain": [
       "<Figure size 576x432 with 2 Axes>"
      ]
     },
     "metadata": {},
     "output_type": "display_data"
    }
   ],
   "source": [
    "# Compute the confusion matrix\n",
    "cm = confusion_matrix(y_val, y_pred)\n",
    "cm_percent = cm.astype('float') / cm.sum(axis=1)[:, np.newaxis] * 100\n",
    "\n",
    "# Define class-wise labels\n",
    "custom_labels = np.array([[\"True Neg\", \"False Pos\"], [\"False Neg\", \"True Pos\"]])\n",
    "\n",
    "# Build annotated labels (label + count + percentage)\n",
    "annot = np.empty_like(cm).astype(str)\n",
    "for i in range(cm.shape[0]):\n",
    "    for j in range(cm.shape[1]):\n",
    "        annot[i, j] = f\"{custom_labels[i, j]}\\n{cm[i, j]} ({cm_percent[i, j]:.1f}%)\"\n",
    "\n",
    "# Plot the heatmap\n",
    "plt.figure(figsize=(8, 6))\n",
    "sns.heatmap(cm, annot=annot, fmt='', cmap='Greens',\n",
    "            xticklabels=['Non-Disaster', 'Disaster'],\n",
    "            yticklabels=['Non-Disaster', 'Disaster'])\n",
    "\n",
    "plt.title(\"Confusion Matrix\", fontsize=14)\n",
    "plt.xlabel(\"Predicted Label\", fontsize=12)\n",
    "plt.ylabel(\"True Label\", fontsize=12)\n",
    "plt.tight_layout()\n",
    "plt.show()"
   ]
  },
  {
   "cell_type": "markdown",
   "id": "9029a163",
   "metadata": {
    "_cell_guid": "aa0721dc-e693-4975-80e3-4ce2c1cc6308",
    "_uuid": "847c0969-97c3-421d-ae15-29b4294880b9",
    "jupyter": {
     "outputs_hidden": false
    },
    "papermill": {
     "duration": 0.051857,
     "end_time": "2025-04-19T07:33:14.715904",
     "exception": false,
     "start_time": "2025-04-19T07:33:14.664047",
     "status": "completed"
    },
    "tags": []
   },
   "source": [
    "## 6. Hyperparameter Tuning\n",
    "\n",
    "To improve the GRU model, I explored different combinations of embedding dimensions, GRU units, and dropout rates. Each configuration was trained for 10 epochs using early stopping, and evaluated on the validation set using accuracy and F1 score.\n",
    "\n",
    "These variations helped identify architectures that balance complexity and performance."
   ]
  },
  {
   "cell_type": "code",
   "execution_count": 22,
   "id": "16a2f399",
   "metadata": {},
   "outputs": [
    {
     "name": "stdout",
     "output_type": "stream",
     "text": [
      "\n",
      "🚀 Training model 1 with params: {'embedding_dim': 128, 'gru_units': 64, 'dropout_rate': 0.2}\n",
      "\n",
      "Epoch 00001: val_loss improved from inf to 0.44502, saving model to model_checkpoints\\gru_best.keras\n",
      "\n",
      "Epoch 00002: val_loss did not improve from 0.44502\n",
      "\n",
      "Epoch 00003: val_loss did not improve from 0.44502\n",
      "\n",
      "Epoch 00003: ReduceLROnPlateau reducing learning rate to 0.0005000000237487257.\n",
      "\n",
      "Epoch 00004: val_loss did not improve from 0.44502\n",
      "Restoring model weights from the end of the best epoch.\n",
      "\n",
      "Epoch 00005: val_loss did not improve from 0.44502\n",
      "\n",
      "Epoch 00005: ReduceLROnPlateau reducing learning rate to 0.0002500000118743628.\n",
      "Epoch 00005: early stopping\n",
      "✅ Model 1 - Accuracy: 0.8056, F1 Score: 0.7658\n",
      "\n",
      "🚀 Training model 2 with params: {'embedding_dim': 128, 'gru_units': 128, 'dropout_rate': 0.3}\n",
      "\n",
      "Epoch 00001: val_loss did not improve from 0.44502\n",
      "\n",
      "Epoch 00002: val_loss did not improve from 0.44502\n",
      "\n",
      "Epoch 00003: val_loss did not improve from 0.44502\n",
      "\n",
      "Epoch 00004: val_loss did not improve from 0.44502\n",
      "\n",
      "Epoch 00004: ReduceLROnPlateau reducing learning rate to 0.0005000000237487257.\n",
      "\n",
      "Epoch 00005: val_loss did not improve from 0.44502\n",
      "Restoring model weights from the end of the best epoch.\n",
      "\n",
      "Epoch 00006: val_loss did not improve from 0.44502\n",
      "\n",
      "Epoch 00006: ReduceLROnPlateau reducing learning rate to 0.0002500000118743628.\n",
      "Epoch 00006: early stopping\n",
      "✅ Model 2 - Accuracy: 0.8083, F1 Score: 0.7634\n",
      "\n",
      "🚀 Training model 3 with params: {'embedding_dim': 200, 'gru_units': 100, 'dropout_rate': 0.4}\n",
      "\n",
      "Epoch 00001: val_loss did not improve from 0.44502\n",
      "\n",
      "Epoch 00002: val_loss did not improve from 0.44502\n",
      "\n",
      "Epoch 00003: val_loss did not improve from 0.44502\n",
      "\n",
      "Epoch 00004: val_loss did not improve from 0.44502\n",
      "\n",
      "Epoch 00004: ReduceLROnPlateau reducing learning rate to 0.0005000000237487257.\n",
      "\n",
      "Epoch 00005: val_loss did not improve from 0.44502\n",
      "Restoring model weights from the end of the best epoch.\n",
      "\n",
      "Epoch 00006: val_loss did not improve from 0.44502\n",
      "\n",
      "Epoch 00006: ReduceLROnPlateau reducing learning rate to 0.0002500000118743628.\n",
      "Epoch 00006: early stopping\n",
      "✅ Model 3 - Accuracy: 0.8083, F1 Score: 0.7626\n",
      "\n",
      "🚀 Training model 4 with params: {'embedding_dim': 256, 'gru_units': 64, 'dropout_rate': 0.2}\n",
      "\n",
      "Epoch 00001: val_loss did not improve from 0.44502\n",
      "\n",
      "Epoch 00002: val_loss did not improve from 0.44502\n",
      "\n",
      "Epoch 00003: val_loss did not improve from 0.44502\n",
      "\n",
      "Epoch 00003: ReduceLROnPlateau reducing learning rate to 0.0005000000237487257.\n",
      "\n",
      "Epoch 00004: val_loss did not improve from 0.44502\n",
      "Restoring model weights from the end of the best epoch.\n",
      "\n",
      "Epoch 00005: val_loss did not improve from 0.44502\n",
      "\n",
      "Epoch 00005: ReduceLROnPlateau reducing learning rate to 0.0002500000118743628.\n",
      "Epoch 00005: early stopping\n",
      "✅ Model 4 - Accuracy: 0.7984, F1 Score: 0.7596\n",
      "\n",
      "🚀 Training model 5 with params: {'embedding_dim': 100, 'gru_units': 32, 'dropout_rate': 0.1}\n",
      "\n",
      "Epoch 00001: val_loss did not improve from 0.44502\n",
      "\n",
      "Epoch 00002: val_loss did not improve from 0.44502\n",
      "\n",
      "Epoch 00003: val_loss did not improve from 0.44502\n",
      "\n",
      "Epoch 00004: val_loss did not improve from 0.44502\n",
      "\n",
      "Epoch 00004: ReduceLROnPlateau reducing learning rate to 0.0005000000237487257.\n",
      "\n",
      "Epoch 00005: val_loss did not improve from 0.44502\n",
      "Restoring model weights from the end of the best epoch.\n",
      "\n",
      "Epoch 00006: val_loss did not improve from 0.44502\n",
      "\n",
      "Epoch 00006: ReduceLROnPlateau reducing learning rate to 0.0002500000118743628.\n",
      "Epoch 00006: early stopping\n",
      "✅ Model 5 - Accuracy: 0.8096, F1 Score: 0.7646\n",
      "\n",
      "🚀 Training model 6 with params: {'embedding_dim': 150, 'gru_units': 150, 'dropout_rate': 0.3}\n",
      "\n",
      "Epoch 00001: val_loss did not improve from 0.44502\n",
      "\n",
      "Epoch 00002: val_loss did not improve from 0.44502\n",
      "\n",
      "Epoch 00003: val_loss did not improve from 0.44502\n",
      "\n",
      "Epoch 00003: ReduceLROnPlateau reducing learning rate to 0.0005000000237487257.\n",
      "\n",
      "Epoch 00004: val_loss did not improve from 0.44502\n",
      "Restoring model weights from the end of the best epoch.\n",
      "\n",
      "Epoch 00005: val_loss did not improve from 0.44502\n",
      "\n",
      "Epoch 00005: ReduceLROnPlateau reducing learning rate to 0.0002500000118743628.\n",
      "Epoch 00005: early stopping\n",
      "✅ Model 6 - Accuracy: 0.8050, F1 Score: 0.7437\n"
     ]
    }
   ],
   "source": [
    "# Define different hyperparameter combinations to try\n",
    "hyperparams = [\n",
    "    {'embedding_dim': 128, 'gru_units': 64, 'dropout_rate': 0.2},   # baseline\n",
    "    {'embedding_dim': 128, 'gru_units': 128, 'dropout_rate': 0.3},  # deeper GRU\n",
    "    {'embedding_dim': 200, 'gru_units': 100, 'dropout_rate': 0.4},  # wider embeddings\n",
    "    {'embedding_dim': 256, 'gru_units': 64, 'dropout_rate': 0.2},   # larger embedding\n",
    "    {'embedding_dim': 100, 'gru_units': 32, 'dropout_rate': 0.1},   # smaller model\n",
    "    {'embedding_dim': 150, 'gru_units': 150, 'dropout_rate': 0.3}   # balanced high-capacity\n",
    "]\n",
    "\n",
    "# Store results for each configuration\n",
    "tuning_results = []\n",
    "\n",
    "# Reuse the callbacks\n",
    "callbacks = configure_callbacks()\n",
    "\n",
    "# Loop through each configuration\n",
    "for i, params in enumerate(hyperparams, 1):\n",
    "    print(f\"\\n🚀 Training model {i} with params: {params}\")\n",
    "\n",
    "    # Build model\n",
    "    model = build_gru_model(\n",
    "        vocab_size=vocab_size,\n",
    "        sequence_length=sequence_length,\n",
    "        embedding_dim=params['embedding_dim'],\n",
    "        gru_units=params['gru_units'],\n",
    "        dropout_rate=params['dropout_rate'],\n",
    "        learning_rate=0.001\n",
    "    )\n",
    "\n",
    "    # Train model\n",
    "    history = model.fit(\n",
    "        train_dataset,\n",
    "        validation_data=val_dataset,\n",
    "        epochs=10,\n",
    "        callbacks=callbacks,\n",
    "        verbose=0  # suppress verbose output for cleaner logs\n",
    "    )\n",
    "\n",
    "    # Evaluate model\n",
    "    y_pred_proba = model.predict(X_val, batch_size=batch_size)\n",
    "    y_pred = (y_pred_proba > 0.5).astype(int).flatten()\n",
    "    acc = np.mean(y_pred == y_val)\n",
    "    f1 = f1_score(y_val, y_pred)\n",
    "\n",
    "    # Save result\n",
    "    tuning_results.append({\n",
    "        'Model': f\"Model {i}\",\n",
    "        'Embedding Dim': params['embedding_dim'],\n",
    "        'GRU Units': params['gru_units'],\n",
    "        'Dropout': params['dropout_rate'],\n",
    "        'Accuracy': round(acc, 4),\n",
    "        'F1 Score': round(f1, 4)\n",
    "    })\n",
    "\n",
    "    print(f\"✅ Model {i} - Accuracy: {acc:.4f}, F1 Score: {f1:.4f}\")"
   ]
  },
  {
   "cell_type": "code",
   "execution_count": 23,
   "id": "c31544cc",
   "metadata": {},
   "outputs": [
    {
     "data": {
      "text/html": [
       "<div>\n",
       "<style scoped>\n",
       "    .dataframe tbody tr th:only-of-type {\n",
       "        vertical-align: middle;\n",
       "    }\n",
       "\n",
       "    .dataframe tbody tr th {\n",
       "        vertical-align: top;\n",
       "    }\n",
       "\n",
       "    .dataframe thead th {\n",
       "        text-align: right;\n",
       "    }\n",
       "</style>\n",
       "<table border=\"1\" class=\"dataframe\">\n",
       "  <thead>\n",
       "    <tr style=\"text-align: right;\">\n",
       "      <th></th>\n",
       "      <th>Model</th>\n",
       "      <th>Embedding Dim</th>\n",
       "      <th>GRU Units</th>\n",
       "      <th>Dropout</th>\n",
       "      <th>Accuracy</th>\n",
       "      <th>F1 Score</th>\n",
       "    </tr>\n",
       "  </thead>\n",
       "  <tbody>\n",
       "    <tr>\n",
       "      <th>0</th>\n",
       "      <td>Model 1</td>\n",
       "      <td>128</td>\n",
       "      <td>64</td>\n",
       "      <td>0.2</td>\n",
       "      <td>0.8056</td>\n",
       "      <td>0.7658</td>\n",
       "    </tr>\n",
       "    <tr>\n",
       "      <th>1</th>\n",
       "      <td>Model 5</td>\n",
       "      <td>100</td>\n",
       "      <td>32</td>\n",
       "      <td>0.1</td>\n",
       "      <td>0.8096</td>\n",
       "      <td>0.7646</td>\n",
       "    </tr>\n",
       "    <tr>\n",
       "      <th>2</th>\n",
       "      <td>Model 2</td>\n",
       "      <td>128</td>\n",
       "      <td>128</td>\n",
       "      <td>0.3</td>\n",
       "      <td>0.8083</td>\n",
       "      <td>0.7634</td>\n",
       "    </tr>\n",
       "    <tr>\n",
       "      <th>3</th>\n",
       "      <td>Model 3</td>\n",
       "      <td>200</td>\n",
       "      <td>100</td>\n",
       "      <td>0.4</td>\n",
       "      <td>0.8083</td>\n",
       "      <td>0.7626</td>\n",
       "    </tr>\n",
       "    <tr>\n",
       "      <th>4</th>\n",
       "      <td>Model 4</td>\n",
       "      <td>256</td>\n",
       "      <td>64</td>\n",
       "      <td>0.2</td>\n",
       "      <td>0.7984</td>\n",
       "      <td>0.7596</td>\n",
       "    </tr>\n",
       "    <tr>\n",
       "      <th>5</th>\n",
       "      <td>Model 6</td>\n",
       "      <td>150</td>\n",
       "      <td>150</td>\n",
       "      <td>0.3</td>\n",
       "      <td>0.8050</td>\n",
       "      <td>0.7437</td>\n",
       "    </tr>\n",
       "  </tbody>\n",
       "</table>\n",
       "</div>"
      ],
      "text/plain": [
       "     Model  Embedding Dim  GRU Units  Dropout  Accuracy  F1 Score\n",
       "0  Model 1            128         64      0.2    0.8056    0.7658\n",
       "1  Model 5            100         32      0.1    0.8096    0.7646\n",
       "2  Model 2            128        128      0.3    0.8083    0.7634\n",
       "3  Model 3            200        100      0.4    0.8083    0.7626\n",
       "4  Model 4            256         64      0.2    0.7984    0.7596\n",
       "5  Model 6            150        150      0.3    0.8050    0.7437"
      ]
     },
     "execution_count": 23,
     "metadata": {},
     "output_type": "execute_result"
    }
   ],
   "source": [
    "# Display tuning summary\n",
    "results_df = pd.DataFrame(tuning_results)\n",
    "results_df.sort_values(by='F1 Score', ascending=False).reset_index(drop=True)"
   ]
  },
  {
   "cell_type": "markdown",
   "id": "1ce7d55e",
   "metadata": {
    "papermill": {
     "duration": 0.193071,
     "end_time": "2025-04-19T07:39:19.505189",
     "exception": false,
     "start_time": "2025-04-19T07:39:19.312118",
     "status": "completed"
    },
    "tags": []
   },
   "source": [
    "After testing a bunch of GRU setups, I noticed that smaller models (like 128-dim embeddings + 64 GRU units) actually held their own against larger ones. More parameters didn’t always help — and low dropout was important to keep things generalizing well. Sometimes, simple just works better."
   ]
  },
  {
   "cell_type": "markdown",
   "id": "76227641",
   "metadata": {
    "_cell_guid": "edb06d4e-d3f8-46f9-8fed-3405dd956b6c",
    "_uuid": "478d7197-26e5-4365-919c-3a04a7e633eb",
    "jupyter": {
     "outputs_hidden": false
    },
    "papermill": {
     "duration": 0.189406,
     "end_time": "2025-04-19T07:39:19.910291",
     "exception": false,
     "start_time": "2025-04-19T07:39:19.720885",
     "status": "completed"
    },
    "tags": []
   },
   "source": [
    "## 7. Generate Predictions"
   ]
  },
  {
   "cell_type": "code",
   "execution_count": 28,
   "id": "15bd23b5",
   "metadata": {},
   "outputs": [
    {
     "name": "stdout",
     "output_type": "stream",
     "text": [
      "\n",
      "✅ Using best model: Model 1 with F1 Score: 0.7658\n",
      "WARNING:tensorflow:Early stopping conditioned on metric `val_loss` which is not available. Available metrics are: loss,accuracy\n",
      "WARNING:tensorflow:Can save best model only with val_loss available, skipping.\n",
      "WARNING:tensorflow:Reduce LR on plateau conditioned on metric `val_loss` which is not available. Available metrics are: loss,accuracy,lr\n",
      "WARNING:tensorflow:Early stopping conditioned on metric `val_loss` which is not available. Available metrics are: loss,accuracy\n",
      "WARNING:tensorflow:Can save best model only with val_loss available, skipping.\n",
      "WARNING:tensorflow:Reduce LR on plateau conditioned on metric `val_loss` which is not available. Available metrics are: loss,accuracy,lr\n",
      "\n",
      "✅ Submission file created successfully!\n",
      "   id  target\n",
      "0   0       1\n",
      "1   2       0\n",
      "2   3       1\n",
      "3   9       0\n",
      "4  11       1\n"
     ]
    }
   ],
   "source": [
    "# Identify the best model based on highest F1 score\n",
    "best_result = max(tuning_results, key=lambda x: x['F1 Score'])\n",
    "best_index = int(best_result['Model'].split()[-1]) - 1\n",
    "print(f\"\\n✅ Using best model: {best_result['Model']} with F1 Score: {best_result['F1 Score']}\")\n",
    "\n",
    "# Rebuild the best model (retrain to ensure state is clean, or reuse saved version if applicable)\n",
    "best_params = hyperparams[best_index]\n",
    "best_model = build_gru_model(\n",
    "    vocab_size=vocab_size,\n",
    "    sequence_length=sequence_length,\n",
    "    embedding_dim=best_params['embedding_dim'],\n",
    "    gru_units=best_params['gru_units'],\n",
    "    dropout_rate=best_params['dropout_rate'],\n",
    "    learning_rate=0.001\n",
    ")\n",
    "\n",
    "# Fit again on full training data (train + val) for final predictions if needed\n",
    "# You may optionally combine X_train_split + X_val if you prefer that\n",
    "full_dataset = create_tf_dataset(X_train, y_train, batch_size=batch_size, shuffle=True)\n",
    "best_model.fit(full_dataset, epochs=best_index + 2, callbacks=configure_callbacks(), verbose=0)\n",
    "\n",
    "# Prepare test set as a tf.data.Dataset for efficient prediction\n",
    "test_dataset = tf.data.Dataset.from_tensor_slices(X_test).batch(batch_size).prefetch(tf.data.experimental.AUTOTUNE)\n",
    "\n",
    "# Predict probabilities\n",
    "final_predictions_proba = best_model.predict(test_dataset)\n",
    "final_predictions = (final_predictions_proba > 0.5).astype(int).flatten()\n",
    "\n",
    "# Create submission DataFrame\n",
    "submission = pd.DataFrame({\n",
    "    'id': test_df['id'],\n",
    "    'target': final_predictions\n",
    "})\n",
    "\n",
    "# Save predictions to CSV\n",
    "submission.to_csv('submission.csv', index=False)\n",
    "print(\"\\n✅ Submission file created successfully!\")\n",
    "print(submission.head())\n"
   ]
  },
  {
   "cell_type": "markdown",
   "id": "815b1c5c",
   "metadata": {
    "_cell_guid": "31477035-a6b5-42b7-b9f7-9295590f70ca",
    "_uuid": "daf08f7e-d249-4829-a6e0-c84fb5edd9f3",
    "jupyter": {
     "outputs_hidden": false
    },
    "papermill": {
     "duration": 0.19513,
     "end_time": "2025-04-19T07:39:21.447705",
     "exception": false,
     "start_time": "2025-04-19T07:39:21.252575",
     "status": "completed"
    },
    "tags": []
   },
   "source": [
    "## 8. Conclusion and Takeaways\n",
    "\n",
    "Overall, this was a fun and tricky task — tweets are short and ambiguous, so building a model to figure out if someone’s talking about an actual disaster or just being dramatic was a real challenge. The GRU model did well (~81% accuracy), and tuning helped a bit. But there’s definitely room to try more advanced stuff like BERT or even attention layers in the future.\n",
    "\n",
    "### Main Results\n",
    "\n",
    "- The most effective model achieved a validation accuracy of about 80.6% and an F1 score of 0.7658.\n",
    "- The best configuration (Model 1) included 128-dimensional embeddings, 64 GRU units, and a dropout rate of 0.2.\n",
    "- Simpler models with fewer parameters performed as well or better than larger, more complex ones.\n",
    "\n",
    "### What Helped Improve Performance\n",
    "\n",
    "- Removing unnecessary content such as URLs, mentions, and special characters made the text cleaner and more consistent.\n",
    "- Padding sequences to 100 tokens worked well given the typical length of tweets.\n",
    "- Stratified splitting maintained class balance across training and validation sets.\n",
    "- Dropout and learning rate scheduling helped reduce overfitting.\n",
    "- Testing different hyperparameter combinations allowed for optimization without overcomplicating the model.\n",
    "\n",
    "### What Was Less Effective\n",
    "\n",
    "- Larger embedding dimensions and deeper GRU layers did not significantly improve results.\n",
    "- Very low dropout values led to overfitting in some cases.\n",
    "- More complex architectures did not consistently outperform smaller models.\n",
    "\n",
    "### Areas for Future Improvement\n",
    "\n",
    "- Pretrained word embeddings like GloVe or Word2Vec could improve generalization.\n",
    "- Bidirectional GRUs or LSTMs may capture more context from each tweet.\n",
    "- Attention mechanisms could help focus the model on important words.\n",
    "- Ensemble methods might increase robustness.\n",
    "- Data augmentation techniques could help address class imbalance.\n",
    "- Transformer-based models like BERT could offer stronger results with fine-tuning.\n",
    "\n",
    "### Final Thoughts\n",
    "\n",
    "Classifying short, informal text like tweets is challenging due to the ambiguity of language and class imbalance. However, with a solid preprocessing pipeline and a carefully tuned GRU model, it was possible to achieve strong performance. This project provides a solid foundation for further work with more advanced techniques or transfer learning approaches.\n"
   ]
  },
  {
   "cell_type": "code",
   "execution_count": null,
   "id": "59825405",
   "metadata": {},
   "outputs": [],
   "source": []
  }
 ],
 "metadata": {
  "kaggle": {
   "accelerator": "none",
   "dataSources": [
    {
     "databundleVersionId": 869809,
     "sourceId": 17777,
     "sourceType": "competition"
    }
   ],
   "dockerImageVersionId": 31012,
   "isGpuEnabled": false,
   "isInternetEnabled": true,
   "language": "python",
   "sourceType": "notebook"
  },
  "kernelspec": {
   "display_name": "Python 3",
   "language": "python",
   "name": "python3"
  },
  "language_info": {
   "codemirror_mode": {
    "name": "ipython",
    "version": 3
   },
   "file_extension": ".py",
   "mimetype": "text/x-python",
   "name": "python",
   "nbconvert_exporter": "python",
   "pygments_lexer": "ipython3",
   "version": "3.7.16"
  },
  "papermill": {
   "default_parameters": {},
   "duration": 473.629961,
   "end_time": "2025-04-19T07:39:25.138441",
   "environment_variables": {},
   "exception": null,
   "input_path": "__notebook__.ipynb",
   "output_path": "__notebook__.ipynb",
   "parameters": {},
   "start_time": "2025-04-19T07:31:31.508480",
   "version": "2.6.0"
  }
 },
 "nbformat": 4,
 "nbformat_minor": 5
}
